{
 "cells": [
  {
   "cell_type": "code",
   "execution_count": 1,
   "id": "3847fd6d",
   "metadata": {},
   "outputs": [],
   "source": [
    "import tensorflow as tf\n",
    "from tensorflow import keras\n",
    "from tensorflow.keras.preprocessing import image_dataset_from_directory\n",
    "import numpy as np\n",
    "import matplotlib.pyplot as plt\n",
    "import pandas as pd\n",
    "import pathlib"
   ]
  },
  {
   "cell_type": "code",
   "execution_count": 2,
   "id": "e6366e28",
   "metadata": {},
   "outputs": [],
   "source": [
    "plt.rc('figure', autolayout=True)\n",
    "plt.rc('axes', labelweight='bold', \n",
    "       labelsize='large', \n",
    "       titleweight='bold', \n",
    "       titlesize=18, titlepad=10)\n",
    "plt.rc('image', cmap='magma')\n"
   ]
  },
  {
   "cell_type": "code",
   "execution_count": 3,
   "id": "05a9cb29",
   "metadata": {},
   "outputs": [],
   "source": [
    "train_dir = 'D:/Download/my_train_dataset/'\n",
    "test_dir = 'D:/Download/test_dataset_test/'"
   ]
  },
  {
   "cell_type": "code",
   "execution_count": 4,
   "id": "d90eae0f",
   "metadata": {},
   "outputs": [
    {
     "name": "stdout",
     "output_type": "stream",
     "text": [
      "Found 4990 files belonging to 8 classes.\n",
      "Using 3992 files for training.\n",
      "Using 998 files for validation.\n",
      "Found 2138 files belonging to 1 classes.\n"
     ]
    }
   ],
   "source": [
    "IMG_HEIGHT, IMG_WIDTH = 128, 128\n",
    "ds_train_, ds_valid_ = image_dataset_from_directory(\n",
    "    train_dir,\n",
    "    labels='inferred',\n",
    "    label_mode='categorical',\n",
    "    image_size=(IMG_HEIGHT, IMG_WIDTH),\n",
    "    interpolation='nearest',\n",
    "    batch_size=64,\n",
    "    shuffle=True,\n",
    "    validation_split = 0.2,\n",
    "    subset='both',\n",
    "    seed=1\n",
    ")\n",
    "\n",
    "ds_test_ = image_dataset_from_directory(\n",
    "    test_dir,\n",
    "    labels='inferred',\n",
    "    label_mode='categorical',\n",
    "    image_size=(IMG_HEIGHT, IMG_WIDTH),\n",
    "    interpolation='nearest',\n",
    "    batch_size=64,\n",
    "    shuffle=False,\n",
    ")"
   ]
  },
  {
   "cell_type": "code",
   "execution_count": 5,
   "id": "b0769de9",
   "metadata": {},
   "outputs": [],
   "source": [
    "def convert_to_float(image, label):\n",
    "    image = tf.image.convert_image_dtype(image, dtype=tf.float32)\n",
    "    return image, label\n",
    "\n",
    "\n",
    "AUTOTUNE = tf.data.experimental.AUTOTUNE\n",
    "ds_train = (\n",
    "    ds_train_\n",
    "    .map(convert_to_float)\n",
    "    .cache()\n",
    "    .prefetch(buffer_size=AUTOTUNE)\n",
    ")\n",
    "ds_valid = (\n",
    "    ds_valid_\n",
    "    .map(convert_to_float)\n",
    "    .cache()\n",
    "    .prefetch(buffer_size=AUTOTUNE)\n",
    ")\n",
    "ds_test = (\n",
    "    ds_test_\n",
    "    .map(convert_to_float)\n",
    "    .cache()\n",
    "    .prefetch(buffer_size=AUTOTUNE)\n",
    ")"
   ]
  },
  {
   "cell_type": "code",
   "execution_count": 6,
   "id": "113840d5",
   "metadata": {},
   "outputs": [],
   "source": [
    "from keras import layers"
   ]
  },
  {
   "cell_type": "code",
   "execution_count": 7,
   "id": "7b497059",
   "metadata": {},
   "outputs": [],
   "source": [
    "'''\n",
    "normalization_layer = layers.Rescaling(1./255) \n",
    "# все ломает\n",
    "normalized_train = ds_train.map(lambda x, y: (normalization_layer(x), y))\n",
    "normalized_valid = ds_valid.map(lambda x, y: (normalization_layer(x), y))\n",
    "normalized_test = ds_test.map(lambda x, y: (normalization_layer(x), y))\n",
    "'''"
   ]
  },
  {
   "cell_type": "code",
   "execution_count": 7,
   "id": "fa899f1c",
   "metadata": {},
   "outputs": [],
   "source": [
    "from tensorflow.keras.layers.experimental import preprocessing\n",
    "preprocess_input = tf.keras.applications.mobilenet_v2.preprocess_input\n",
    "base_model = tf.keras.applications.MobileNetV2(input_shape=(IMG_HEIGHT, IMG_WIDTH, 3),\n",
    "                                               include_top=False,\n",
    "                                               weights='imagenet')\n",
    "base_model.trainable = False\n",
    "\n",
    "model = keras.Sequential([\n",
    "    preprocessing.RandomFlip('horizontal'),\n",
    "    preprocessing.RandomContrast(0.25),\n",
    "    base_model,\n",
    "    layers.Flatten(),\n",
    "    layers.Dense(units=256, activation='relu'),\n",
    "    layers.Dense(units=128, activation='relu'),\n",
    "    layers.Dense(units=64, activation='relu'),\n",
    "    layers.Dense(units=8, activation='softmax'),\n",
    "    \n",
    "])"
   ]
  },
  {
   "cell_type": "code",
   "execution_count": 8,
   "id": "33f1bd9e",
   "metadata": {},
   "outputs": [],
   "source": [
    "from tensorflow.keras.layers.experimental import preprocessing\n",
    "\n",
    "model = keras.Sequential([\n",
    "    #preprocessing.Rescaling(1./255),\n",
    "    preprocessing.RandomFlip('horizontal'),\n",
    "    preprocessing.RandomContrast(0.25),\n",
    "    \n",
    "    layers.Conv2D(filters=32, kernel_size=3, activation='relu', padding='same', strides=1, input_shape=[128, 128, 3]),\n",
    "    layers.MaxPool2D(),\n",
    "    layers.Conv2D(filters=64, kernel_size=3, activation='relu'),\n",
    "    layers.MaxPool2D(),\n",
    "    layers.Dropout(rate=0.25),\n",
    "    layers.Conv2D(filters=128, kernel_size=3, activation='relu'),\n",
    "    layers.MaxPool2D(),\n",
    "    layers.Dropout(rate=0.25),\n",
    "    layers.Conv2D(filters=256, kernel_size=3, activation='relu'),\n",
    "    layers.MaxPool2D(),\n",
    "    layers.Dropout(rate=0.25),\n",
    "    layers.Conv2D(filters=64, kernel_size=3, activation='relu'),\n",
    "    layers.MaxPool2D(),\n",
    "    \n",
    "    layers.Flatten(),\n",
    "    layers.Dense(units=64, activation='relu'),\n",
    "    layers.Dense(units=8, activation='softmax'),\n",
    "    \n",
    "])"
   ]
  },
  {
   "cell_type": "code",
   "execution_count": 9,
   "id": "79fa0563",
   "metadata": {},
   "outputs": [
    {
     "name": "stdout",
     "output_type": "stream",
     "text": [
      "Epoch 1/50\n",
      "WARNING:tensorflow:Using a while_loop for converting RngReadAndSkip cause there is no registered converter for this op.\n",
      "WARNING:tensorflow:Using a while_loop for converting Bitcast cause there is no registered converter for this op.\n",
      "WARNING:tensorflow:Using a while_loop for converting Bitcast cause there is no registered converter for this op.\n",
      "WARNING:tensorflow:Using a while_loop for converting StatelessRandomUniformFullIntV2 cause there is no registered converter for this op.\n",
      "WARNING:tensorflow:Using a while_loop for converting StatelessRandomGetKeyCounter cause there is no registered converter for this op.\n",
      "WARNING:tensorflow:Using a while_loop for converting StatelessRandomUniformV2 cause there is no registered converter for this op.\n",
      "WARNING:tensorflow:Using a while_loop for converting AdjustContrastv2 cause Input \"contrast_factor\" of op 'AdjustContrastv2' expected to be loop invariant.\n",
      "WARNING:tensorflow:Using a while_loop for converting RngReadAndSkip cause there is no registered converter for this op.\n",
      "WARNING:tensorflow:Using a while_loop for converting Bitcast cause there is no registered converter for this op.\n",
      "WARNING:tensorflow:Using a while_loop for converting Bitcast cause there is no registered converter for this op.\n",
      "WARNING:tensorflow:Using a while_loop for converting StatelessRandomUniformFullIntV2 cause there is no registered converter for this op.\n",
      "WARNING:tensorflow:Using a while_loop for converting StatelessRandomGetKeyCounter cause there is no registered converter for this op.\n",
      "WARNING:tensorflow:Using a while_loop for converting StatelessRandomUniformV2 cause there is no registered converter for this op.\n",
      "WARNING:tensorflow:Using a while_loop for converting AdjustContrastv2 cause Input \"contrast_factor\" of op 'AdjustContrastv2' expected to be loop invariant.\n",
      "WARNING:tensorflow:Using a while_loop for converting RngReadAndSkip cause there is no registered converter for this op.\n",
      "WARNING:tensorflow:Using a while_loop for converting Bitcast cause there is no registered converter for this op.\n",
      "WARNING:tensorflow:Using a while_loop for converting Bitcast cause there is no registered converter for this op.\n",
      "WARNING:tensorflow:Using a while_loop for converting StatelessRandomUniformFullIntV2 cause there is no registered converter for this op.\n",
      "WARNING:tensorflow:Using a while_loop for converting StatelessRandomGetKeyCounter cause there is no registered converter for this op.\n",
      "WARNING:tensorflow:Using a while_loop for converting StatelessRandomUniformV2 cause there is no registered converter for this op.\n",
      "WARNING:tensorflow:Using a while_loop for converting AdjustContrastv2 cause Input \"contrast_factor\" of op 'AdjustContrastv2' expected to be loop invariant.\n",
      "63/63 [==============================] - ETA: 0s - loss: 0.6244 - recall_1: 0.8156WARNING:tensorflow:Early stopping conditioned on metric `recall` which is not available. Available metrics are: loss,recall_1,val_loss,val_recall_1\n",
      "63/63 [==============================] - 75s 1s/step - loss: 0.6244 - recall_1: 0.8156 - val_loss: 0.3285 - val_recall_1: 0.9028\n",
      "Epoch 2/50\n",
      "63/63 [==============================] - ETA: 0s - loss: 0.0832 - recall_1: 0.9697WARNING:tensorflow:Early stopping conditioned on metric `recall` which is not available. Available metrics are: loss,recall_1,val_loss,val_recall_1\n",
      "63/63 [==============================] - 55s 874ms/step - loss: 0.0832 - recall_1: 0.9697 - val_loss: 0.1794 - val_recall_1: 0.9509\n",
      "Epoch 3/50\n",
      "63/63 [==============================] - ETA: 0s - loss: 0.0442 - recall_1: 0.9845WARNING:tensorflow:Early stopping conditioned on metric `recall` which is not available. Available metrics are: loss,recall_1,val_loss,val_recall_1\n",
      "63/63 [==============================] - 54s 859ms/step - loss: 0.0442 - recall_1: 0.9845 - val_loss: 0.2789 - val_recall_1: 0.9269\n",
      "Epoch 4/50\n",
      "63/63 [==============================] - ETA: 0s - loss: 0.0337 - recall_1: 0.9882WARNING:tensorflow:Early stopping conditioned on metric `recall` which is not available. Available metrics are: loss,recall_1,val_loss,val_recall_1\n",
      "63/63 [==============================] - 54s 863ms/step - loss: 0.0337 - recall_1: 0.9882 - val_loss: 0.3473 - val_recall_1: 0.9329\n",
      "Epoch 5/50\n",
      "63/63 [==============================] - ETA: 0s - loss: 0.0349 - recall_1: 0.9887WARNING:tensorflow:Early stopping conditioned on metric `recall` which is not available. Available metrics are: loss,recall_1,val_loss,val_recall_1\n",
      "63/63 [==============================] - 55s 878ms/step - loss: 0.0349 - recall_1: 0.9887 - val_loss: 0.3885 - val_recall_1: 0.9128\n",
      "Epoch 6/50\n",
      "63/63 [==============================] - ETA: 0s - loss: 0.0265 - recall_1: 0.9905WARNING:tensorflow:Early stopping conditioned on metric `recall` which is not available. Available metrics are: loss,recall_1,val_loss,val_recall_1\n",
      "63/63 [==============================] - 60s 951ms/step - loss: 0.0265 - recall_1: 0.9905 - val_loss: 0.3484 - val_recall_1: 0.9259\n",
      "Epoch 7/50\n",
      "63/63 [==============================] - ETA: 0s - loss: 0.0199 - recall_1: 0.9950WARNING:tensorflow:Early stopping conditioned on metric `recall` which is not available. Available metrics are: loss,recall_1,val_loss,val_recall_1\n",
      "63/63 [==============================] - 60s 952ms/step - loss: 0.0199 - recall_1: 0.9950 - val_loss: 0.2613 - val_recall_1: 0.9439\n",
      "Epoch 8/50\n",
      "63/63 [==============================] - ETA: 0s - loss: 0.0184 - recall_1: 0.9922WARNING:tensorflow:Early stopping conditioned on metric `recall` which is not available. Available metrics are: loss,recall_1,val_loss,val_recall_1\n",
      "63/63 [==============================] - 57s 900ms/step - loss: 0.0184 - recall_1: 0.9922 - val_loss: 0.3745 - val_recall_1: 0.9259\n",
      "Epoch 9/50\n",
      "63/63 [==============================] - ETA: 0s - loss: 0.0376 - recall_1: 0.9895WARNING:tensorflow:Early stopping conditioned on metric `recall` which is not available. Available metrics are: loss,recall_1,val_loss,val_recall_1\n",
      "63/63 [==============================] - 54s 862ms/step - loss: 0.0376 - recall_1: 0.9895 - val_loss: 0.4812 - val_recall_1: 0.9098\n",
      "Epoch 10/50\n",
      "63/63 [==============================] - ETA: 0s - loss: 0.0206 - recall_1: 0.9942WARNING:tensorflow:Early stopping conditioned on metric `recall` which is not available. Available metrics are: loss,recall_1,val_loss,val_recall_1\n",
      "63/63 [==============================] - 55s 874ms/step - loss: 0.0206 - recall_1: 0.9942 - val_loss: 0.2884 - val_recall_1: 0.9439\n",
      "Epoch 11/50\n",
      "63/63 [==============================] - ETA: 0s - loss: 0.0113 - recall_1: 0.9967WARNING:tensorflow:Early stopping conditioned on metric `recall` which is not available. Available metrics are: loss,recall_1,val_loss,val_recall_1\n",
      "63/63 [==============================] - 51s 812ms/step - loss: 0.0113 - recall_1: 0.9967 - val_loss: 0.2679 - val_recall_1: 0.9389\n",
      "Epoch 12/50\n",
      "63/63 [==============================] - ETA: 0s - loss: 0.0020 - recall_1: 0.9992WARNING:tensorflow:Early stopping conditioned on metric `recall` which is not available. Available metrics are: loss,recall_1,val_loss,val_recall_1\n",
      "63/63 [==============================] - 51s 808ms/step - loss: 0.0020 - recall_1: 0.9992 - val_loss: 0.2421 - val_recall_1: 0.9579\n",
      "Epoch 13/50\n",
      "63/63 [==============================] - ETA: 0s - loss: 4.0328e-04 - recall_1: 1.0000WARNING:tensorflow:Early stopping conditioned on metric `recall` which is not available. Available metrics are: loss,recall_1,val_loss,val_recall_1\n",
      "63/63 [==============================] - 49s 783ms/step - loss: 4.0328e-04 - recall_1: 1.0000 - val_loss: 0.2316 - val_recall_1: 0.9539\n",
      "Epoch 14/50\n",
      "63/63 [==============================] - ETA: 0s - loss: 1.0585e-04 - recall_1: 1.0000WARNING:tensorflow:Early stopping conditioned on metric `recall` which is not available. Available metrics are: loss,recall_1,val_loss,val_recall_1\n",
      "63/63 [==============================] - 55s 875ms/step - loss: 1.0585e-04 - recall_1: 1.0000 - val_loss: 0.2282 - val_recall_1: 0.9559\n",
      "Epoch 15/50\n",
      "63/63 [==============================] - ETA: 0s - loss: 5.6604e-05 - recall_1: 1.0000WARNING:tensorflow:Early stopping conditioned on metric `recall` which is not available. Available metrics are: loss,recall_1,val_loss,val_recall_1\n"
     ]
    },
    {
     "name": "stdout",
     "output_type": "stream",
     "text": [
      "63/63 [==============================] - 63s 1s/step - loss: 5.6604e-05 - recall_1: 1.0000 - val_loss: 0.2253 - val_recall_1: 0.9579\n",
      "Epoch 16/50\n",
      "63/63 [==============================] - ETA: 0s - loss: 4.5793e-05 - recall_1: 1.0000WARNING:tensorflow:Early stopping conditioned on metric `recall` which is not available. Available metrics are: loss,recall_1,val_loss,val_recall_1\n",
      "63/63 [==============================] - 54s 861ms/step - loss: 4.5793e-05 - recall_1: 1.0000 - val_loss: 0.2256 - val_recall_1: 0.9579\n",
      "Epoch 17/50\n",
      "63/63 [==============================] - ETA: 0s - loss: 5.5114e-05 - recall_1: 1.0000WARNING:tensorflow:Early stopping conditioned on metric `recall` which is not available. Available metrics are: loss,recall_1,val_loss,val_recall_1\n",
      "63/63 [==============================] - 52s 821ms/step - loss: 5.5114e-05 - recall_1: 1.0000 - val_loss: 0.2259 - val_recall_1: 0.9589\n",
      "Epoch 18/50\n",
      "63/63 [==============================] - ETA: 0s - loss: 4.1762e-05 - recall_1: 1.0000WARNING:tensorflow:Early stopping conditioned on metric `recall` which is not available. Available metrics are: loss,recall_1,val_loss,val_recall_1\n",
      "63/63 [==============================] - 55s 873ms/step - loss: 4.1762e-05 - recall_1: 1.0000 - val_loss: 0.2286 - val_recall_1: 0.9569\n",
      "Epoch 19/50\n",
      "63/63 [==============================] - ETA: 0s - loss: 8.6783e-05 - recall_1: 1.0000WARNING:tensorflow:Early stopping conditioned on metric `recall` which is not available. Available metrics are: loss,recall_1,val_loss,val_recall_1\n",
      "63/63 [==============================] - 51s 817ms/step - loss: 8.6783e-05 - recall_1: 1.0000 - val_loss: 0.2207 - val_recall_1: 0.9589\n",
      "Epoch 20/50\n",
      "63/63 [==============================] - ETA: 0s - loss: 4.6157e-05 - recall_1: 1.0000WARNING:tensorflow:Early stopping conditioned on metric `recall` which is not available. Available metrics are: loss,recall_1,val_loss,val_recall_1\n",
      "63/63 [==============================] - 56s 897ms/step - loss: 4.6157e-05 - recall_1: 1.0000 - val_loss: 0.2213 - val_recall_1: 0.9589\n",
      "Epoch 21/50\n",
      "63/63 [==============================] - ETA: 0s - loss: 5.6818e-05 - recall_1: 1.0000WARNING:tensorflow:Early stopping conditioned on metric `recall` which is not available. Available metrics are: loss,recall_1,val_loss,val_recall_1\n",
      "63/63 [==============================] - 55s 879ms/step - loss: 5.6818e-05 - recall_1: 1.0000 - val_loss: 0.2271 - val_recall_1: 0.9569\n",
      "Epoch 22/50\n",
      "63/63 [==============================] - ETA: 0s - loss: 4.5059e-05 - recall_1: 1.0000WARNING:tensorflow:Early stopping conditioned on metric `recall` which is not available. Available metrics are: loss,recall_1,val_loss,val_recall_1\n",
      "63/63 [==============================] - 54s 863ms/step - loss: 4.5059e-05 - recall_1: 1.0000 - val_loss: 0.2282 - val_recall_1: 0.9599\n",
      "Epoch 23/50\n",
      "63/63 [==============================] - ETA: 0s - loss: 2.6628e-05 - recall_1: 1.0000WARNING:tensorflow:Early stopping conditioned on metric `recall` which is not available. Available metrics are: loss,recall_1,val_loss,val_recall_1\n",
      "63/63 [==============================] - 54s 861ms/step - loss: 2.6628e-05 - recall_1: 1.0000 - val_loss: 0.2274 - val_recall_1: 0.9579\n",
      "Epoch 24/50\n",
      "63/63 [==============================] - ETA: 0s - loss: 2.3475e-05 - recall_1: 1.0000WARNING:tensorflow:Early stopping conditioned on metric `recall` which is not available. Available metrics are: loss,recall_1,val_loss,val_recall_1\n",
      "63/63 [==============================] - 54s 860ms/step - loss: 2.3475e-05 - recall_1: 1.0000 - val_loss: 0.2286 - val_recall_1: 0.9579\n",
      "Epoch 25/50\n",
      "63/63 [==============================] - ETA: 0s - loss: 2.4347e-05 - recall_1: 1.0000WARNING:tensorflow:Early stopping conditioned on metric `recall` which is not available. Available metrics are: loss,recall_1,val_loss,val_recall_1\n",
      "63/63 [==============================] - 51s 813ms/step - loss: 2.4347e-05 - recall_1: 1.0000 - val_loss: 0.2292 - val_recall_1: 0.9589\n",
      "Epoch 26/50\n",
      "63/63 [==============================] - ETA: 0s - loss: 2.0499e-05 - recall_1: 1.0000WARNING:tensorflow:Early stopping conditioned on metric `recall` which is not available. Available metrics are: loss,recall_1,val_loss,val_recall_1\n",
      "63/63 [==============================] - 54s 865ms/step - loss: 2.0499e-05 - recall_1: 1.0000 - val_loss: 0.2292 - val_recall_1: 0.9589\n",
      "Epoch 27/50\n",
      "63/63 [==============================] - ETA: 0s - loss: 2.9391e-05 - recall_1: 1.0000WARNING:tensorflow:Early stopping conditioned on metric `recall` which is not available. Available metrics are: loss,recall_1,val_loss,val_recall_1\n",
      "63/63 [==============================] - 53s 837ms/step - loss: 2.9391e-05 - recall_1: 1.0000 - val_loss: 0.2289 - val_recall_1: 0.9609\n",
      "Epoch 28/50\n",
      "63/63 [==============================] - ETA: 0s - loss: 2.1442e-05 - recall_1: 1.0000WARNING:tensorflow:Early stopping conditioned on metric `recall` which is not available. Available metrics are: loss,recall_1,val_loss,val_recall_1\n",
      "63/63 [==============================] - 49s 776ms/step - loss: 2.1442e-05 - recall_1: 1.0000 - val_loss: 0.2301 - val_recall_1: 0.9589\n",
      "Epoch 29/50\n",
      "63/63 [==============================] - ETA: 0s - loss: 3.1876e-05 - recall_1: 1.0000WARNING:tensorflow:Early stopping conditioned on metric `recall` which is not available. Available metrics are: loss,recall_1,val_loss,val_recall_1\n",
      "63/63 [==============================] - 47s 753ms/step - loss: 3.1876e-05 - recall_1: 1.0000 - val_loss: 0.2358 - val_recall_1: 0.9599\n",
      "Epoch 30/50\n",
      "63/63 [==============================] - ETA: 0s - loss: 2.3197e-05 - recall_1: 1.0000WARNING:tensorflow:Early stopping conditioned on metric `recall` which is not available. Available metrics are: loss,recall_1,val_loss,val_recall_1\n",
      "63/63 [==============================] - 49s 780ms/step - loss: 2.3197e-05 - recall_1: 1.0000 - val_loss: 0.2390 - val_recall_1: 0.9589\n",
      "Epoch 31/50\n",
      "63/63 [==============================] - ETA: 0s - loss: 1.6821e-05 - recall_1: 1.0000WARNING:tensorflow:Early stopping conditioned on metric `recall` which is not available. Available metrics are: loss,recall_1,val_loss,val_recall_1\n",
      "63/63 [==============================] - 53s 842ms/step - loss: 1.6821e-05 - recall_1: 1.0000 - val_loss: 0.2372 - val_recall_1: 0.9589\n",
      "Epoch 32/50\n",
      "63/63 [==============================] - ETA: 0s - loss: 1.5023e-05 - recall_1: 1.0000WARNING:tensorflow:Early stopping conditioned on metric `recall` which is not available. Available metrics are: loss,recall_1,val_loss,val_recall_1\n",
      "63/63 [==============================] - 53s 839ms/step - loss: 1.5023e-05 - recall_1: 1.0000 - val_loss: 0.2362 - val_recall_1: 0.9589\n",
      "Epoch 33/50\n",
      "63/63 [==============================] - ETA: 0s - loss: 1.1615e-05 - recall_1: 1.0000WARNING:tensorflow:Early stopping conditioned on metric `recall` which is not available. Available metrics are: loss,recall_1,val_loss,val_recall_1\n",
      "63/63 [==============================] - 48s 767ms/step - loss: 1.1615e-05 - recall_1: 1.0000 - val_loss: 0.2358 - val_recall_1: 0.9599\n",
      "Epoch 34/50\n",
      "63/63 [==============================] - ETA: 0s - loss: 1.6072e-05 - recall_1: 1.0000WARNING:tensorflow:Early stopping conditioned on metric `recall` which is not available. Available metrics are: loss,recall_1,val_loss,val_recall_1\n",
      "63/63 [==============================] - 49s 779ms/step - loss: 1.6072e-05 - recall_1: 1.0000 - val_loss: 0.2319 - val_recall_1: 0.9589\n",
      "Epoch 35/50\n",
      "63/63 [==============================] - ETA: 0s - loss: 1.0962e-05 - recall_1: 1.0000WARNING:tensorflow:Early stopping conditioned on metric `recall` which is not available. Available metrics are: loss,recall_1,val_loss,val_recall_1\n",
      "63/63 [==============================] - 53s 852ms/step - loss: 1.0962e-05 - recall_1: 1.0000 - val_loss: 0.2320 - val_recall_1: 0.9589\n",
      "Epoch 36/50\n",
      "63/63 [==============================] - ETA: 0s - loss: 1.2274e-05 - recall_1: 1.0000WARNING:tensorflow:Early stopping conditioned on metric `recall` which is not available. Available metrics are: loss,recall_1,val_loss,val_recall_1\n",
      "63/63 [==============================] - 46s 729ms/step - loss: 1.2274e-05 - recall_1: 1.0000 - val_loss: 0.2329 - val_recall_1: 0.9589\n",
      "Epoch 37/50\n"
     ]
    },
    {
     "name": "stdout",
     "output_type": "stream",
     "text": [
      "63/63 [==============================] - ETA: 0s - loss: 1.1845e-05 - recall_1: 1.0000WARNING:tensorflow:Early stopping conditioned on metric `recall` which is not available. Available metrics are: loss,recall_1,val_loss,val_recall_1\n",
      "63/63 [==============================] - 58s 920ms/step - loss: 1.1845e-05 - recall_1: 1.0000 - val_loss: 0.2329 - val_recall_1: 0.9589\n",
      "Epoch 38/50\n",
      "63/63 [==============================] - ETA: 0s - loss: 1.0770e-05 - recall_1: 1.0000WARNING:tensorflow:Early stopping conditioned on metric `recall` which is not available. Available metrics are: loss,recall_1,val_loss,val_recall_1\n",
      "63/63 [==============================] - 58s 931ms/step - loss: 1.0770e-05 - recall_1: 1.0000 - val_loss: 0.2346 - val_recall_1: 0.9589\n",
      "Epoch 39/50\n",
      "63/63 [==============================] - ETA: 0s - loss: 1.1587e-05 - recall_1: 1.0000WARNING:tensorflow:Early stopping conditioned on metric `recall` which is not available. Available metrics are: loss,recall_1,val_loss,val_recall_1\n",
      "63/63 [==============================] - 58s 929ms/step - loss: 1.1587e-05 - recall_1: 1.0000 - val_loss: 0.2367 - val_recall_1: 0.9579\n",
      "Epoch 40/50\n",
      "63/63 [==============================] - ETA: 0s - loss: 1.2264e-05 - recall_1: 1.0000WARNING:tensorflow:Early stopping conditioned on metric `recall` which is not available. Available metrics are: loss,recall_1,val_loss,val_recall_1\n",
      "63/63 [==============================] - 60s 950ms/step - loss: 1.2264e-05 - recall_1: 1.0000 - val_loss: 0.2368 - val_recall_1: 0.9589\n",
      "Epoch 41/50\n",
      "63/63 [==============================] - ETA: 0s - loss: 9.7751e-06 - recall_1: 1.0000WARNING:tensorflow:Early stopping conditioned on metric `recall` which is not available. Available metrics are: loss,recall_1,val_loss,val_recall_1\n",
      "63/63 [==============================] - 60s 952ms/step - loss: 9.7751e-06 - recall_1: 1.0000 - val_loss: 0.2372 - val_recall_1: 0.9579\n",
      "Epoch 42/50\n",
      "63/63 [==============================] - ETA: 0s - loss: 1.1271e-05 - recall_1: 1.0000WARNING:tensorflow:Early stopping conditioned on metric `recall` which is not available. Available metrics are: loss,recall_1,val_loss,val_recall_1\n",
      "63/63 [==============================] - 60s 953ms/step - loss: 1.1271e-05 - recall_1: 1.0000 - val_loss: 0.2380 - val_recall_1: 0.9589\n",
      "Epoch 43/50\n",
      "63/63 [==============================] - ETA: 0s - loss: 8.1065e-06 - recall_1: 1.0000WARNING:tensorflow:Early stopping conditioned on metric `recall` which is not available. Available metrics are: loss,recall_1,val_loss,val_recall_1\n",
      "63/63 [==============================] - 58s 923ms/step - loss: 8.1065e-06 - recall_1: 1.0000 - val_loss: 0.2378 - val_recall_1: 0.9589\n",
      "Epoch 44/50\n",
      "63/63 [==============================] - ETA: 0s - loss: 8.2020e-06 - recall_1: 1.0000WARNING:tensorflow:Early stopping conditioned on metric `recall` which is not available. Available metrics are: loss,recall_1,val_loss,val_recall_1\n",
      "63/63 [==============================] - 59s 935ms/step - loss: 8.2020e-06 - recall_1: 1.0000 - val_loss: 0.2383 - val_recall_1: 0.9579\n",
      "Epoch 45/50\n",
      "63/63 [==============================] - ETA: 0s - loss: 9.2030e-06 - recall_1: 1.0000WARNING:tensorflow:Early stopping conditioned on metric `recall` which is not available. Available metrics are: loss,recall_1,val_loss,val_recall_1\n",
      "63/63 [==============================] - 61s 967ms/step - loss: 9.2030e-06 - recall_1: 1.0000 - val_loss: 0.2375 - val_recall_1: 0.9589\n",
      "Epoch 46/50\n",
      "63/63 [==============================] - ETA: 0s - loss: 8.9009e-06 - recall_1: 1.0000WARNING:tensorflow:Early stopping conditioned on metric `recall` which is not available. Available metrics are: loss,recall_1,val_loss,val_recall_1\n",
      "63/63 [==============================] - 59s 936ms/step - loss: 8.9009e-06 - recall_1: 1.0000 - val_loss: 0.2377 - val_recall_1: 0.9589\n",
      "Epoch 47/50\n",
      "63/63 [==============================] - ETA: 0s - loss: 7.0721e-06 - recall_1: 1.0000WARNING:tensorflow:Early stopping conditioned on metric `recall` which is not available. Available metrics are: loss,recall_1,val_loss,val_recall_1\n",
      "63/63 [==============================] - 58s 923ms/step - loss: 7.0721e-06 - recall_1: 1.0000 - val_loss: 0.2373 - val_recall_1: 0.9589\n",
      "Epoch 48/50\n",
      "63/63 [==============================] - ETA: 0s - loss: 7.9372e-06 - recall_1: 1.0000WARNING:tensorflow:Early stopping conditioned on metric `recall` which is not available. Available metrics are: loss,recall_1,val_loss,val_recall_1\n",
      "63/63 [==============================] - 58s 924ms/step - loss: 7.9372e-06 - recall_1: 1.0000 - val_loss: 0.2369 - val_recall_1: 0.9589\n",
      "Epoch 49/50\n",
      "63/63 [==============================] - ETA: 0s - loss: 8.6188e-06 - recall_1: 1.0000WARNING:tensorflow:Early stopping conditioned on metric `recall` which is not available. Available metrics are: loss,recall_1,val_loss,val_recall_1\n",
      "63/63 [==============================] - 58s 925ms/step - loss: 8.6188e-06 - recall_1: 1.0000 - val_loss: 0.2356 - val_recall_1: 0.9589\n",
      "Epoch 50/50\n",
      "63/63 [==============================] - ETA: 0s - loss: 8.2749e-06 - recall_1: 1.0000WARNING:tensorflow:Early stopping conditioned on metric `recall` which is not available. Available metrics are: loss,recall_1,val_loss,val_recall_1\n",
      "63/63 [==============================] - 59s 934ms/step - loss: 8.2749e-06 - recall_1: 1.0000 - val_loss: 0.2379 - val_recall_1: 0.9599\n"
     ]
    }
   ],
   "source": [
    "callback = tf.keras.callbacks.EarlyStopping(monitor='loss', patience=3)\n",
    "\n",
    "model.compile(\n",
    "    optimizer='adam',\n",
    "    loss=\"categorical_crossentropy\",\n",
    "    metrics=[tf.keras.metrics.Recall()],\n",
    ")\n",
    "history = model.fit(\n",
    "    ds_train,\n",
    "    validation_data = ds_valid,\n",
    "    epochs = 50,\n",
    "    callbacks = [callback]\n",
    "    #verbose=0\n",
    ")"
   ]
  },
  {
   "cell_type": "code",
   "execution_count": 10,
   "id": "94398843",
   "metadata": {},
   "outputs": [
    {
     "name": "stdout",
     "output_type": "stream",
     "text": [
      "34/34 [==============================] - 24s 620ms/step\n"
     ]
    }
   ],
   "source": [
    "predictions = model.predict(ds_test)"
   ]
  },
  {
   "cell_type": "code",
   "execution_count": 11,
   "id": "e78d65ae",
   "metadata": {},
   "outputs": [
    {
     "data": {
      "text/plain": [
       "array([9.3291055e-11, 7.4312848e-12, 5.6184648e-16, 1.2983168e-18,\n",
       "       8.6279916e-12, 1.0000000e+00, 9.3610467e-11, 1.1545032e-13],\n",
       "      dtype=float32)"
      ]
     },
     "execution_count": 11,
     "metadata": {},
     "output_type": "execute_result"
    }
   ],
   "source": [
    "predictions[0]"
   ]
  },
  {
   "cell_type": "code",
   "execution_count": 12,
   "id": "fdff839b",
   "metadata": {},
   "outputs": [],
   "source": [
    "def save_predictions(file_name, predictions):\n",
    "    import pandas as pd\n",
    "    b = predictions.tolist()\n",
    "    a = [i.index(max(i)) for i in b]\n",
    "    s = pd.Series(a)\n",
    "    imgid = pd.Series([str(i) + '.jpg' for i in range(2138)])\n",
    "    df = pd.concat([imgid, s], axis=1)\n",
    "    df.to_csv(file_name+'.csv', index=0)"
   ]
  },
  {
   "cell_type": "code",
   "execution_count": 13,
   "id": "1aaa1ff4",
   "metadata": {},
   "outputs": [],
   "source": [
    "save_predictions('predictions12', predictions)"
   ]
  },
  {
   "cell_type": "code",
   "execution_count": 14,
   "id": "b9dfc9b8",
   "metadata": {},
   "outputs": [
    {
     "name": "stderr",
     "output_type": "stream",
     "text": [
      "D:\\ACode\\Python\\AI\\KCHR_Champ\\python-virtual-environments\\env\\lib\\site-packages\\IPython\\core\\pylabtools.py:151: UserWarning: This figure includes Axes that are not compatible with tight_layout, so results might be incorrect.\n",
      "  fig.canvas.print_figure(bytes_io, **kw)\n"
     ]
    },
    {
     "data": {
      "image/png": "[encoded data removed]",
      "text/plain": [
       "<Figure size 640x480 with 1 Axes>"
      ]
     },
     "metadata": {},
     "output_type": "display_data"
    },
    {
     "data": {
      "image/png": "[encoded data removed]",
      "text/plain": [
       "<Figure size 640x480 with 1 Axes>"
      ]
     },
     "metadata": {},
     "output_type": "display_data"
    }
   ],
   "source": [
    "history_frame = pd.DataFrame(history.history)\n",
    "\n",
    "history_frame.loc[:, ['loss', 'val_loss']].plot()\n",
    "history_frame.loc[:, ['recall_1', 'val_recall_1']].plot();"
   ]
  },
  {
   "cell_type": "code",
   "execution_count": 15,
   "id": "686e84de",
   "metadata": {},
   "outputs": [],
   "source": [
    "model.save('model_7.h5')"
   ]
  },
  {
   "cell_type": "code",
   "execution_count": null,
   "id": "bf5bd577",
   "metadata": {},
   "outputs": [],
   "source": []
  }
 ],
 "metadata": {
  "kernelspec": {
   "display_name": "Python 3 (ipykernel)",
   "language": "python",
   "name": "python3"
  },
  "language_info": {
   "codemirror_mode": {
    "name": "ipython",
    "version": 3
   },
   "file_extension": ".py",
   "mimetype": "text/x-python",
   "name": "python",
   "nbconvert_exporter": "python",
   "pygments_lexer": "ipython3",
   "version": "3.10.4"
  }
 },
 "nbformat": 4,
 "nbformat_minor": 5
}
